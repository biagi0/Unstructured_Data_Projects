{
 "cells": [
  {
   "cell_type": "markdown",
   "metadata": {},
   "source": []
  },
  {
   "cell_type": "code",
   "execution_count": null,
   "metadata": {},
   "outputs": [],
   "source": [
    "import wrds\n",
    "\n",
    "# Connect to WRDS\n",
    "db = wrds.Connection()"
   ]
  },
  {
   "cell_type": "markdown",
   "metadata": {},
   "source": [
    "## Actual Script To Pull Transcripts"
   ]
  },
  {
   "cell_type": "code",
   "execution_count": null,
   "metadata": {},
   "outputs": [],
   "source": [
    "# List of tickers to query # INTC, AMD, NVDA, TSM, TXN \n",
    "tickers = ['INTC']\n",
    "\n",
    "# Define the range of years\n",
    "years = range(2010, 2025)  # From 2010 to 2024"
   ]
  },
  {
   "cell_type": "code",
   "execution_count": null,
   "metadata": {},
   "outputs": [],
   "source": [
    "# Loop through each ticker\n",
    "for ticker in tickers:\n",
    "    \n",
    "    # Query to find companyID based on ticker\n",
    "    query = f\"\"\"\n",
    "    select distinct companyID\n",
    "    from ciq.wrds_ciqsymbol \n",
    "    where symbolvalue = '{ticker}'\n",
    "    and exchangeid = 458; -- NASDAQ exchange id\n",
    "    \"\"\"\n",
    "    \n",
    "    # Execute the query to get company ID\n",
    "    companyid_df = db.raw_sql(query)\n",
    "    \n",
    "    # If no company ID is found, skip to the next ticker\n",
    "    if companyid_df.empty:\n",
    "        print(f\"No company ID found for {ticker}\")\n",
    "        continue\n",
    "    \n",
    "    # Convert the 'companyID' to integer\n",
    "    company_id = companyid_df['companyid'].astype(int).iloc[0]  # Get the first result\n",
    "    \n",
    "    # Loop through each year\n",
    "    for year in years:\n",
    "        \n",
    "        # Query to fetch earnings calls for the given year and company ID\n",
    "        sql_query = f\"\"\"\n",
    "            WITH latest_transcripts AS (\n",
    "                SELECT companyid\n",
    "                    , headline\n",
    "                    , mostimportantdateutc\n",
    "                    , keydeveventtypeid\n",
    "                    , keydeveventtypename\n",
    "                    , companyname\n",
    "                    , audiolengthsec\n",
    "                    , MAX(transcriptid) AS transcriptid  -- Select the maximum transcriptid per date\n",
    "                FROM ciq.wrds_transcript_detail\n",
    "                WHERE companyid = {company_id}\n",
    "                    AND date_part('year', mostimportantdateutc) = {year}\n",
    "                GROUP BY companyid, headline, mostimportantdateutc, keydeveventtypeid, keydeveventtypename, companyname, audiolengthsec\n",
    "            )\n",
    "            SELECT a.companyid\n",
    "                , a.headline\n",
    "                , a.mostimportantdateutc\n",
    "                , a.keydeveventtypeid\n",
    "                , a.keydeveventtypename\n",
    "                , a.companyname\n",
    "                , a.audiolengthsec\n",
    "                , b.transcriptid\n",
    "                , b.transcriptcomponentid\n",
    "                , b.transcriptcomponenttypename\n",
    "                , b.transcriptpersonname\n",
    "                , b.companyofperson\n",
    "                , b.speakertypename\n",
    "                , c.componentorder\n",
    "                , c.componenttext\n",
    "                , b.word_count\n",
    "            FROM latest_transcripts AS a\n",
    "            JOIN ciq.wrds_transcript_person AS b\n",
    "                ON a.transcriptid = b.transcriptid\n",
    "            JOIN ciq.ciqtranscriptcomponent AS c\n",
    "                ON b.transcriptcomponentid = c.transcriptcomponentid\n",
    "            WHERE a.keydeveventtypeid = 48  -- limits to earnings calls\n",
    "            ORDER BY a.transcriptid, b.componentorder;\n",
    "        \"\"\"\n",
    "        \n",
    "        # Execute the query to get the earnings call data\n",
    "        transcript_df = db.raw_sql(sql_query)\n",
    "        \n",
    "        # If the dataframe is not empty, save it to a CSV file\n",
    "        if not transcript_df.empty:\n",
    "            # Define the filename\n",
    "            csv_filename = f\"{ticker}_Earnings_Calls_{year}.csv\"\n",
    "            \n",
    "            # Save the dataframe to CSV\n",
    "            transcript_df.to_csv(csv_filename, index=False)\n",
    "            \n",
    "            # Print confirmation\n",
    "            print(f\"Saved {csv_filename}\")\n",
    "        else:\n",
    "            print(f\"No earnings call data for {ticker} in {year}\")"
   ]
  },
  {
   "cell_type": "code",
   "execution_count": null,
   "metadata": {},
   "outputs": [],
   "source": [
    "db.close()"
   ]
  }
 ],
 "metadata": {
  "kernelspec": {
   "display_name": "base",
   "language": "python",
   "name": "python3"
  },
  "language_info": {
   "codemirror_mode": {
    "name": "ipython",
    "version": 3
   },
   "file_extension": ".py",
   "mimetype": "text/x-python",
   "name": "python",
   "nbconvert_exporter": "python",
   "pygments_lexer": "ipython3",
   "version": "3.12.4"
  }
 },
 "nbformat": 4,
 "nbformat_minor": 2
}
